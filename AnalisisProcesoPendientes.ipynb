{
 "cells": [
  {
   "cell_type": "code",
   "execution_count": 39,
   "metadata": {},
   "outputs": [
    {
     "name": "stdout",
     "output_type": "stream",
     "text": [
      "Inicio del primer paso\n",
      "/home/jorge/Proyectos Python/Mapfre/ProcesosPeru\n",
      "Fin del primer paso\n"
     ]
    }
   ],
   "source": [
    "import pandas as pd\n",
    "%matplotlib inline\n",
    "#import datetime\n",
    "print('Inicio del primer paso')\n",
    "directorioBase = '/home/jorge/Proyectos Python/Mapfre/ProcesosPeru/';\n",
    "\n",
    "%cd $directorioBase\n",
    "fichero = 'DatosProcesoPendientesPeru.xlsx'\n",
    "\n",
    "temporal=pd.read_excel(fichero)\n",
    "datos=temporal[temporal.Estado == 'ENDED OK'].dropna()\n",
    "#temp1['Start']='2019/'+temp1['Start']\n",
    "#temp1['End']='2019/'+temp1['End']\n",
    "\n",
    "datos['Inicio']=pd.to_datetime(datos['Inicio'],format=\"%Y-%m-%d    %H:%M\")\n",
    "datos['Fin']=pd.to_datetime(datos['Fin'],format=\"%Y-%m-%d    %H:%M\")\n",
    "datos['Duracion']='0 days '+datos['Duracion']\n",
    "datos['Duracion']=pd.to_timedelta(datos['Duracion'])\n",
    "#temp1['End']=pd.to_datetime(temp1['End'],format=\"%Y/%m/%d %H:%M\")\n",
    "\n",
    "print('Fin del primer paso')"
   ]
  },
  {
   "cell_type": "code",
   "execution_count": 49,
   "metadata": {},
   "outputs": [
    {
     "name": "stdout",
     "output_type": "stream",
     "text": [
      "<class 'pandas.core.frame.DataFrame'>\n",
      "Int64Index: 25 entries, 0 to 28\n",
      "Data columns (total 8 columns):\n",
      "Fecha       25 non-null int64\n",
      "JobName     25 non-null object\n",
      "MemName     25 non-null object\n",
      "Inicio      25 non-null datetime64[ns]\n",
      "Fin         25 non-null datetime64[ns]\n",
      "Duracion    25 non-null timedelta64[ns]\n",
      "Estado      25 non-null object\n",
      "Nodo        25 non-null object\n",
      "dtypes: datetime64[ns](2), int64(1), object(4), timedelta64[ns](1)\n",
      "memory usage: 1.8+ KB\n"
     ]
    },
    {
     "data": {
      "text/plain": [
       "Fecha                 int64\n",
       "JobName              object\n",
       "MemName              object\n",
       "Inicio       datetime64[ns]\n",
       "Fin          datetime64[ns]\n",
       "Duracion    timedelta64[ns]\n",
       "Estado               object\n",
       "Nodo                 object\n",
       "dtype: object"
      ]
     },
     "execution_count": 49,
     "metadata": {},
     "output_type": "execute_result"
    }
   ],
   "source": [
    "datos.info()\n",
    "datos.dtypes\n",
    "datos.shape\n"
   ]
  },
  {
   "cell_type": "code",
   "execution_count": 50,
   "metadata": {},
   "outputs": [
    {
     "data": {
      "text/plain": [
       "J02CZTRLV0048PGTRONP    25\n",
       "Name: JobName, dtype: int64"
      ]
     },
     "execution_count": 50,
     "metadata": {},
     "output_type": "execute_result"
    }
   ],
   "source": [
    "datos.JobName.value_counts()\n"
   ]
  },
  {
   "cell_type": "code",
   "execution_count": 46,
   "metadata": {},
   "outputs": [
    {
     "data": {
      "text/plain": [
       "<matplotlib.axes._subplots.AxesSubplot at 0x7f2e34bfd198>"
      ]
     },
     "execution_count": 46,
     "metadata": {},
     "output_type": "execute_result"
    },
    {
     "data": {
      "image/png": "[encoded data removed]",
      "text/plain": [
       "<Figure size 432x288 with 1 Axes>"
      ]
     },
     "metadata": {
      "needs_background": "light"
     },
     "output_type": "display_data"
    }
   ],
   "source": [
    "datos.Duracion.plot()"
   ]
  },
  {
   "cell_type": "code",
   "execution_count": null,
   "metadata": {},
   "outputs": [],
   "source": []
  }
 ],
 "metadata": {
  "kernelspec": {
   "display_name": "Python 3",
   "language": "python",
   "name": "python3"
  },
  "language_info": {
   "codemirror_mode": {
    "name": "ipython",
    "version": 3
   },
   "file_extension": ".py",
   "mimetype": "text/x-python",
   "name": "python",
   "nbconvert_exporter": "python",
   "pygments_lexer": "ipython3",
   "version": "3.6.7"
  }
 },
 "nbformat": 4,
 "nbformat_minor": 2
}
