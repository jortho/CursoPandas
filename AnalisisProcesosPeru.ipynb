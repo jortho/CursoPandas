{
 "cells": [
  {
   "cell_type": "code",
   "execution_count": 79,
   "metadata": {},
   "outputs": [
    {
     "name": "stdout",
     "output_type": "stream",
     "text": [
      "Inicio del primer paso\n",
      "/home/jorge/Proyectos Python/Mapfre/ProcesosPeru\n",
      "Fin del primer paso\n"
     ]
    }
   ],
   "source": [
    "import pandas as pd\n",
    "#import datetime\n",
    "print('Inicio del primer paso')\n",
    "directorioBase = '/home/jorge/Proyectos Python/Mapfre/ProcesosPeru/';\n",
    "\n",
    "%cd $directorioBase\n",
    "fichero = 'Bitacora_Diaria_PER_07_Feb_2019.xlsx'\n",
    "\n",
    "temporal=pd.read_excel(fichero,usecols=[1,5,6,7,8,9])\n",
    "temp1=temporal[temporal.Status == 'ENDED OK'].dropna()\n",
    "temp1['Start']='2019/'+temp1['Start']\n",
    "temp1['End']='2019/'+temp1['End']\n",
    "temp1['Time']='0 days '+temp1['Time']\n",
    "temp1['Start']=pd.to_datetime(temp1['Start'],format=\"%Y/%m/%d %H:%M\")\n",
    "temp1['End']=pd.to_datetime(temp1['End'],format=\"%Y/%m/%d %H:%M\")\n",
    "temp1['Time']=pd.to_timedelta(temp1['Time'])\n",
    "print('Fin del primer paso')"
   ]
  },
  {
   "cell_type": "code",
   "execution_count": 81,
   "metadata": {},
   "outputs": [
    {
     "data": {
      "text/html": [
       "<div>\n",
       "<style scoped>\n",
       "    .dataframe tbody tr th:only-of-type {\n",
       "        vertical-align: middle;\n",
       "    }\n",
       "\n",
       "    .dataframe tbody tr th {\n",
       "        vertical-align: top;\n",
       "    }\n",
       "\n",
       "    .dataframe thead th {\n",
       "        text-align: right;\n",
       "    }\n",
       "</style>\n",
       "<table border=\"1\" class=\"dataframe\">\n",
       "  <thead>\n",
       "    <tr style=\"text-align: right;\">\n",
       "      <th></th>\n",
       "      <th>Time</th>\n",
       "    </tr>\n",
       "  </thead>\n",
       "  <tbody>\n",
       "    <tr>\n",
       "      <th>count</th>\n",
       "      <td>2784</td>\n",
       "    </tr>\n",
       "    <tr>\n",
       "      <th>mean</th>\n",
       "      <td>0 days 00:03:38.886135</td>\n",
       "    </tr>\n",
       "    <tr>\n",
       "      <th>std</th>\n",
       "      <td>0 days 00:32:03.053845</td>\n",
       "    </tr>\n",
       "    <tr>\n",
       "      <th>min</th>\n",
       "      <td>0 days 00:00:00</td>\n",
       "    </tr>\n",
       "    <tr>\n",
       "      <th>25%</th>\n",
       "      <td>0 days 00:00:02</td>\n",
       "    </tr>\n",
       "    <tr>\n",
       "      <th>50%</th>\n",
       "      <td>0 days 00:00:03</td>\n",
       "    </tr>\n",
       "    <tr>\n",
       "      <th>75%</th>\n",
       "      <td>0 days 00:00:17</td>\n",
       "    </tr>\n",
       "    <tr>\n",
       "      <th>max</th>\n",
       "      <td>0 days 11:43:20</td>\n",
       "    </tr>\n",
       "  </tbody>\n",
       "</table>\n",
       "</div>"
      ],
      "text/plain": [
       "                         Time\n",
       "count                    2784\n",
       "mean   0 days 00:03:38.886135\n",
       "std    0 days 00:32:03.053845\n",
       "min           0 days 00:00:00\n",
       "25%           0 days 00:00:02\n",
       "50%           0 days 00:00:03\n",
       "75%           0 days 00:00:17\n",
       "max           0 days 11:43:20"
      ]
     },
     "execution_count": 81,
     "metadata": {},
     "output_type": "execute_result"
    }
   ],
   "source": [
    "temp1.describe()"
   ]
  },
  {
   "cell_type": "code",
   "execution_count": 82,
   "metadata": {},
   "outputs": [
    {
     "data": {
      "text/html": [
       "<div>\n",
       "<style scoped>\n",
       "    .dataframe tbody tr th:only-of-type {\n",
       "        vertical-align: middle;\n",
       "    }\n",
       "\n",
       "    .dataframe tbody tr th {\n",
       "        vertical-align: top;\n",
       "    }\n",
       "\n",
       "    .dataframe thead th {\n",
       "        text-align: right;\n",
       "    }\n",
       "</style>\n",
       "<table border=\"1\" class=\"dataframe\">\n",
       "  <thead>\n",
       "    <tr style=\"text-align: right;\">\n",
       "      <th></th>\n",
       "      <th>File</th>\n",
       "      <th>Process</th>\n",
       "      <th>Start</th>\n",
       "      <th>End</th>\n",
       "      <th>Time</th>\n",
       "      <th>Status</th>\n",
       "    </tr>\n",
       "  </thead>\n",
       "  <tbody>\n",
       "    <tr>\n",
       "      <th>0</th>\n",
       "      <td>ctmrpln_all.sh</td>\n",
       "      <td>UT-L-012</td>\n",
       "      <td>2019-02-07 00:05:00</td>\n",
       "      <td>2019-02-07 00:06:00</td>\n",
       "      <td>00:00:55</td>\n",
       "      <td>ENDED OK</td>\n",
       "    </tr>\n",
       "    <tr>\n",
       "      <th>1</th>\n",
       "      <td>ctmcontb.sh</td>\n",
       "      <td>UT-L-011</td>\n",
       "      <td>2019-02-07 00:05:00</td>\n",
       "      <td>2019-02-07 00:05:00</td>\n",
       "      <td>00:00:10</td>\n",
       "      <td>ENDED OK</td>\n",
       "    </tr>\n",
       "    <tr>\n",
       "      <th>2</th>\n",
       "      <td>ctmudly.sh</td>\n",
       "      <td>UT-L-010</td>\n",
       "      <td>2019-02-07 00:05:00</td>\n",
       "      <td>2019-02-07 00:05:00</td>\n",
       "      <td>00:00:32</td>\n",
       "      <td>ENDED OK</td>\n",
       "    </tr>\n",
       "    <tr>\n",
       "      <th>3</th>\n",
       "      <td>ctmrpln.sh</td>\n",
       "      <td>UT-L-008</td>\n",
       "      <td>2019-02-07 00:03:00</td>\n",
       "      <td>2019-02-07 00:03:00</td>\n",
       "      <td>00:00:25</td>\n",
       "      <td>ENDED OK</td>\n",
       "    </tr>\n",
       "    <tr>\n",
       "      <th>4</th>\n",
       "      <td>ctmsetvar.sh</td>\n",
       "      <td>UT-L-007</td>\n",
       "      <td>2019-02-07 00:03:00</td>\n",
       "      <td>2019-02-07 00:03:00</td>\n",
       "      <td>00:00:02</td>\n",
       "      <td>ENDED OK</td>\n",
       "    </tr>\n",
       "  </tbody>\n",
       "</table>\n",
       "</div>"
      ],
      "text/plain": [
       "             File   Process               Start                 End     Time  \\\n",
       "0  ctmrpln_all.sh  UT-L-012 2019-02-07 00:05:00 2019-02-07 00:06:00 00:00:55   \n",
       "1     ctmcontb.sh  UT-L-011 2019-02-07 00:05:00 2019-02-07 00:05:00 00:00:10   \n",
       "2      ctmudly.sh  UT-L-010 2019-02-07 00:05:00 2019-02-07 00:05:00 00:00:32   \n",
       "3      ctmrpln.sh  UT-L-008 2019-02-07 00:03:00 2019-02-07 00:03:00 00:00:25   \n",
       "4    ctmsetvar.sh  UT-L-007 2019-02-07 00:03:00 2019-02-07 00:03:00 00:00:02   \n",
       "\n",
       "     Status  \n",
       "0  ENDED OK  \n",
       "1  ENDED OK  \n",
       "2  ENDED OK  \n",
       "3  ENDED OK  \n",
       "4  ENDED OK  "
      ]
     },
     "execution_count": 82,
     "metadata": {},
     "output_type": "execute_result"
    }
   ],
   "source": [
    "temp1.head()"
   ]
  },
  {
   "cell_type": "code",
   "execution_count": null,
   "metadata": {},
   "outputs": [],
   "source": []
  }
 ],
 "metadata": {
  "kernelspec": {
   "display_name": "Python 3",
   "language": "python",
   "name": "python3"
  },
  "language_info": {
   "codemirror_mode": {
    "name": "ipython",
    "version": 3
   },
   "file_extension": ".py",
   "mimetype": "text/x-python",
   "name": "python",
   "nbconvert_exporter": "python",
   "pygments_lexer": "ipython3",
   "version": "3.6.7"
  }
 },
 "nbformat": 4,
 "nbformat_minor": 2
}
